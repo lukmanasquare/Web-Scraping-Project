{
 "cells": [
  {
   "cell_type": "code",
   "execution_count": 1,
   "id": "9260f28d",
   "metadata": {},
   "outputs": [],
   "source": [
    "# import libraries \n",
    "\n",
    "import pandas as pd\n",
    "from bs4 import BeautifulSoup\n",
    "import requests\n",
    "import time\n",
    "import datetime\n",
    "\n",
    "\n",
    "import smtplib\n",
    "\n",
    "\n"
   ]
  },
  {
   "cell_type": "code",
   "execution_count": 2,
   "id": "12fd49ce",
   "metadata": {},
   "outputs": [],
   "source": [
    "#declaring the list of empty variables, So that we can append the data overall\n",
    "\n",
    "title_name = []\n",
    "pricing = []\n",
    "sizes =[]\n",
    "rate =[]\n",
    "time = []"
   ]
  },
  {
   "cell_type": "code",
   "execution_count": 3,
   "id": "2f150aba",
   "metadata": {},
   "outputs": [
    {
     "name": "stdout",
     "output_type": "stream",
     "text": [
      "           Men's Trendy Zipper Comfort Hoodie Jacket Sweatshirts - White          \n",
      "            ₦ 4,227           \n",
      "           M          \n",
      "           3.8 out of 5           \n"
     ]
    }
   ],
   "source": [
    "# Connect to Website\n",
    "\n",
    "URL = 'https://www.jumia.com.ng/fashion-mens-trendy-zipper-comfort-hoodie-jacket-sweatshirts-white-35333949.html'\n",
    "\n",
    "headers = {\"User-Agent\": \"Mozilla/5.0 (Windows NT 10.0; Win64; x64) AppleWebKit/537.36 (KHTML, like Gecko) Chrome/110.0.0.0 Safari/537.36 Edg/110.0.1587.57\"} \n",
    "\n",
    "page = requests.get(URL, headers=headers)\n",
    "\n",
    "soup1 = BeautifulSoup(page.content, \"html.parser\")\n",
    "\n",
    "soup2 = BeautifulSoup(soup1.prettify(), \"html.parser\")\n",
    "\n",
    "title = soup2.find(class_=\"-fs20 -pts -pbxs\").get_text().replace('\\n', '')\n",
    "title_name.append(title.strip())\n",
    "\n",
    "price = soup2.find(class_=\"-b -ltr -tal -fs24\").get_text().replace('\\n', '')\n",
    "pricing.append(price.strip()[2:])\n",
    "\n",
    "size = soup2.find(class_=\"vl\").get_text().replace('\\n', '')\n",
    "sizes.append(size.strip())\n",
    "\n",
    "rating = soup2.find(class_=\"stars _s _al\").get_text().replace('\\n', '')\n",
    "rate.append(rating.strip()[0:4])\n",
    "\n",
    "\n",
    "\n",
    "print(title)\n",
    "print(price)\n",
    "print(size)\n",
    "print(rating)\n"
   ]
  },
  {
   "cell_type": "code",
   "execution_count": 4,
   "id": "23dc3d47",
   "metadata": {},
   "outputs": [
    {
     "name": "stdout",
     "output_type": "stream",
     "text": [
      "2023-03-13\n"
     ]
    }
   ],
   "source": [
    "# Create a Timestamp for your output to track when data was collected\n",
    "\n",
    "import datetime\n",
    "\n",
    "today = datetime.date.today()\n",
    "time.append(today)\n",
    "\n",
    "print(today)"
   ]
  },
  {
   "cell_type": "code",
   "execution_count": 5,
   "id": "dd7f4b94",
   "metadata": {},
   "outputs": [],
   "source": [
    "#creating a dataframe \n",
    "jumia_list = pd.DataFrame({ \"Dress Name\": title_name, \"Price\" : pricing, \"Size\": sizes, \"Rating\": rate, \"Date\": time })\n"
   ]
  },
  {
   "cell_type": "code",
   "execution_count": 6,
   "id": "f08b8072",
   "metadata": {},
   "outputs": [
    {
     "data": {
      "text/html": [
       "<div>\n",
       "<style scoped>\n",
       "    .dataframe tbody tr th:only-of-type {\n",
       "        vertical-align: middle;\n",
       "    }\n",
       "\n",
       "    .dataframe tbody tr th {\n",
       "        vertical-align: top;\n",
       "    }\n",
       "\n",
       "    .dataframe thead th {\n",
       "        text-align: right;\n",
       "    }\n",
       "</style>\n",
       "<table border=\"1\" class=\"dataframe\">\n",
       "  <thead>\n",
       "    <tr style=\"text-align: right;\">\n",
       "      <th></th>\n",
       "      <th>Dress Name</th>\n",
       "      <th>Price</th>\n",
       "      <th>Size</th>\n",
       "      <th>Rating</th>\n",
       "      <th>Date</th>\n",
       "    </tr>\n",
       "  </thead>\n",
       "  <tbody>\n",
       "    <tr>\n",
       "      <th>0</th>\n",
       "      <td>Men's Trendy Zipper Comfort Hoodie Jacket Swea...</td>\n",
       "      <td>4,227</td>\n",
       "      <td>M</td>\n",
       "      <td>3.8</td>\n",
       "      <td>2023-03-13</td>\n",
       "    </tr>\n",
       "  </tbody>\n",
       "</table>\n",
       "</div>"
      ],
      "text/plain": [
       "                                          Dress Name  Price Size Rating  \\\n",
       "0  Men's Trendy Zipper Comfort Hoodie Jacket Swea...  4,227    M   3.8    \n",
       "\n",
       "         Date  \n",
       "0  2023-03-13  "
      ]
     },
     "execution_count": 6,
     "metadata": {},
     "output_type": "execute_result"
    }
   ],
   "source": [
    "jumia_list\n"
   ]
  },
  {
   "cell_type": "code",
   "execution_count": 7,
   "id": "af05ce1d",
   "metadata": {},
   "outputs": [],
   "source": [
    "#saving the data in excel format\n",
    "jumia_list.to_excel(\"Jumia Men Fashion Wear.xlsx\")\n",
    "\n",
    "# #If you want to save the data in csv format\n",
    "jumia_list.to_csv(\"Jumia Men Fashion Wear.csv\")"
   ]
  },
  {
   "cell_type": "code",
   "execution_count": null,
   "id": "e77755e1",
   "metadata": {},
   "outputs": [],
   "source": []
  },
  {
   "cell_type": "code",
   "execution_count": null,
   "id": "b9737b4e",
   "metadata": {},
   "outputs": [],
   "source": []
  },
  {
   "cell_type": "code",
   "execution_count": null,
   "id": "b21b8a6e",
   "metadata": {},
   "outputs": [],
   "source": []
  }
 ],
 "metadata": {
  "kernelspec": {
   "display_name": "Python 3 (ipykernel)",
   "language": "python",
   "name": "python3"
  },
  "language_info": {
   "codemirror_mode": {
    "name": "ipython",
    "version": 3
   },
   "file_extension": ".py",
   "mimetype": "text/x-python",
   "name": "python",
   "nbconvert_exporter": "python",
   "pygments_lexer": "ipython3",
   "version": "3.9.7"
  }
 },
 "nbformat": 4,
 "nbformat_minor": 5
}

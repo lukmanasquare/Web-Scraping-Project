{
 "cells": [
  {
   "cell_type": "code",
   "execution_count": 1,
   "id": "3f0bc5c5",
   "metadata": {},
   "outputs": [],
   "source": [
    "#Import libraries\n",
    "import requests\n",
    "from bs4 import BeautifulSoup\n"
   ]
  },
  {
   "cell_type": "code",
   "execution_count": 2,
   "id": "33d66ae2",
   "metadata": {},
   "outputs": [],
   "source": [
    "urls = [\n",
    "    'https://www.blackownedbrooklyn.com/stories/thenarativ',\n",
    "    'https://www.blackownedbrooklyn.com/stories/adanne',\n",
    "    'https://www.blackownedbrooklyn.com/stories/theregalsuite',\n",
    "    'https://www.blackownedbrooklyn.com/stories/yuinteriors',\n",
    "    'https://www.blackownedbrooklyn.com/stories/photodom',\n",
    "    'https://www.blackownedbrooklyn.com/stories/hardware2',\n",
    "    'https://www.blackownedbrooklyn.com/stories/make-manifest',\n",
    "    'https://www.blackownedbrooklyn.com/stories/brooklyn-clay-industries',\n",
    "    'https://www.blackownedbrooklyn.com/stories/ethels-club',\n",
    "    'https://www.blackownedbrooklyn.com/stories/the-brownstoners-of-bedford-stuyvesant',\n",
    "    ]"
   ]
  },
  {
   "cell_type": "code",
   "execution_count": 3,
   "id": "9c698b30",
   "metadata": {},
   "outputs": [
    {
     "name": "stdout",
     "output_type": "stream",
     "text": [
      "Business_Name: Sep 30 The Narativ House x Brooklyn Kettle\n",
      "Category: Home and Design\n",
      "Business_Name: Aug  5 Adanne\n",
      "Category: Home and Design\n",
      "Business_Name: May 26 The Regal Suite\n",
      "Category: Home and Design\n",
      "Business_Name: Feb 21 YÚ Interiors\n",
      "Category: Home and Design\n",
      "Business_Name: Jan 24 Photodom\n",
      "Category: Home and Design\n",
      "Business_Name: Sep 23 Hardware 2.0\n",
      "Category: Home and Design\n",
      "Business_Name: Mar 12 Make Manifest\n",
      "Category: Home and Design\n",
      "Business_Name: Feb 11 Brooklyn Clay Industries\n",
      "Category: Home and Design\n",
      "Business_Name: Feb  4 Ethel's Club\n",
      "Category: Home and Design\n",
      "Business_Name: Oct 21 The Brownstoners of Bedford-Stuyvesant\n",
      "Category: Home and Design\n"
     ]
    }
   ],
   "source": [
    "#loop through the urls and send get request to the url\n",
    "for url in urls:\n",
    "    response= requests.get(url)\n",
    "    soup= BeautifulSoup(response.content, \"html.parser\")\n",
    "    business_name = soup.find('h2', class_=\"entry-title entry-title--large p-name\").get_text()\n",
    "    #address = soup.find('p', class_=\"\", style = \"white-space:pre-wrap;\").find('em').get_text()\n",
    "    #website_tag = soup.find('a', {'id': 'yui_3_17_2_1_1678698112318_524'})\n",
    "    #website = website_tag.get('href')\n",
    "    \n",
    "    print('Business_Name:', business_name)\n",
    "    #print('Address:', address)\n",
    "    #print('Website:', website)\n",
    "    print('Category:', \"Home and Design\")"
   ]
  }
 ],
 "metadata": {
  "kernelspec": {
   "display_name": "Python 3 (ipykernel)",
   "language": "python",
   "name": "python3"
  },
  "language_info": {
   "codemirror_mode": {
    "name": "ipython",
    "version": 3
   },
   "file_extension": ".py",
   "mimetype": "text/x-python",
   "name": "python",
   "nbconvert_exporter": "python",
   "pygments_lexer": "ipython3",
   "version": "3.9.7"
  }
 },
 "nbformat": 4,
 "nbformat_minor": 5
}
